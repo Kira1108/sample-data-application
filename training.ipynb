{
 "cells": [
  {
   "cell_type": "code",
   "execution_count": 1,
   "metadata": {},
   "outputs": [],
   "source": [
    "from extract import MysqlLoader\n",
    "from model import MaPredictor, ExpPredictor\n",
    "from joblib import dump\n",
    "from config import MODEL_PATH"
   ]
  },
  {
   "cell_type": "code",
   "execution_count": 2,
   "metadata": {},
   "outputs": [
    {
     "name": "stderr",
     "output_type": "stream",
     "text": [
      "/opt/anaconda3/lib/python3.8/site-packages/pandas/io/sql.py:761: UserWarning: pandas only support SQLAlchemy connectable(engine/connection) ordatabase string URI or sqlite3 DBAPI2 connectionother DBAPI2 objects are not tested, please consider using SQLAlchemy\n",
      "  warnings.warn(\n"
     ]
    }
   ],
   "source": [
    "df = MysqlLoader(\"select * from brent\").load()\n",
    "\n",
    "def train_model(df):\n",
    "    print(\"Training Start.\")\n",
    "    model = MaPredictor(10)\n",
    "    model.fit(df)\n",
    "    print(\"Training completed.\")\n",
    "    return model\n",
    "    "
   ]
  },
  {
   "cell_type": "code",
   "execution_count": 3,
   "metadata": {},
   "outputs": [
    {
     "name": "stdout",
     "output_type": "stream",
     "text": [
      "Training Start.\n",
      "Training completed.\n",
      "Model saved to ./models/ma10.joblib\n"
     ]
    }
   ],
   "source": [
    "model = train_model(df)\n",
    "\n",
    "# save model\n",
    "dump(model, open(MODEL_PATH,'wb'))\n",
    "print(f\"Model saved to {MODEL_PATH}\")"
   ]
  },
  {
   "cell_type": "markdown",
   "metadata": {},
   "source": [
    "#### Code to evaluate the model"
   ]
  },
  {
   "cell_type": "code",
   "execution_count": 4,
   "metadata": {},
   "outputs": [
    {
     "name": "stderr",
     "output_type": "stream",
     "text": [
      "/opt/anaconda3/lib/python3.8/site-packages/pandas/io/sql.py:761: UserWarning: pandas only support SQLAlchemy connectable(engine/connection) ordatabase string URI or sqlite3 DBAPI2 connectionother DBAPI2 objects are not tested, please consider using SQLAlchemy\n",
      "  warnings.warn(\n"
     ]
    },
    {
     "data": {
      "text/plain": [
       "Index(['Date', 'Price', 'Open', 'High', 'Low', 'Vol.', 'Change %',\n",
       "       'prediction'],\n",
       "      dtype='object')"
      ]
     },
     "execution_count": 4,
     "metadata": {},
     "output_type": "execute_result"
    }
   ],
   "source": [
    "MysqlLoader(\"select * from brent_predict\").load().columns"
   ]
  },
  {
   "cell_type": "code",
   "execution_count": 5,
   "metadata": {},
   "outputs": [
    {
     "data": {
      "text/html": [
       "<div>\n",
       "<style scoped>\n",
       "    .dataframe tbody tr th:only-of-type {\n",
       "        vertical-align: middle;\n",
       "    }\n",
       "\n",
       "    .dataframe tbody tr th {\n",
       "        vertical-align: top;\n",
       "    }\n",
       "\n",
       "    .dataframe thead th {\n",
       "        text-align: right;\n",
       "    }\n",
       "</style>\n",
       "<table border=\"1\" class=\"dataframe\">\n",
       "  <thead>\n",
       "    <tr style=\"text-align: right;\">\n",
       "      <th></th>\n",
       "      <th>Date</th>\n",
       "      <th>Price</th>\n",
       "      <th>Open</th>\n",
       "      <th>High</th>\n",
       "      <th>Low</th>\n",
       "      <th>Vol.</th>\n",
       "      <th>Change %</th>\n",
       "    </tr>\n",
       "  </thead>\n",
       "  <tbody>\n",
       "    <tr>\n",
       "      <th>0</th>\n",
       "      <td>2022-05-24</td>\n",
       "      <td>110.13</td>\n",
       "      <td>110.21</td>\n",
       "      <td>110.52</td>\n",
       "      <td>109.70</td>\n",
       "      <td>-</td>\n",
       "      <td>-0.59%</td>\n",
       "    </tr>\n",
       "    <tr>\n",
       "      <th>1</th>\n",
       "      <td>2022-05-23</td>\n",
       "      <td>110.78</td>\n",
       "      <td>110.29</td>\n",
       "      <td>111.59</td>\n",
       "      <td>109.30</td>\n",
       "      <td>191.99K</td>\n",
       "      <td>0.54%</td>\n",
       "    </tr>\n",
       "    <tr>\n",
       "      <th>2</th>\n",
       "      <td>2022-05-22</td>\n",
       "      <td>110.18</td>\n",
       "      <td>110.19</td>\n",
       "      <td>110.30</td>\n",
       "      <td>109.38</td>\n",
       "      <td>-</td>\n",
       "      <td>-2.11%</td>\n",
       "    </tr>\n",
       "    <tr>\n",
       "      <th>3</th>\n",
       "      <td>2022-05-20</td>\n",
       "      <td>112.55</td>\n",
       "      <td>111.45</td>\n",
       "      <td>113.23</td>\n",
       "      <td>110.52</td>\n",
       "      <td>180.89K</td>\n",
       "      <td>0.46%</td>\n",
       "    </tr>\n",
       "    <tr>\n",
       "      <th>4</th>\n",
       "      <td>2022-05-19</td>\n",
       "      <td>112.04</td>\n",
       "      <td>108.22</td>\n",
       "      <td>112.31</td>\n",
       "      <td>105.70</td>\n",
       "      <td>272.35K</td>\n",
       "      <td>2.69%</td>\n",
       "    </tr>\n",
       "    <tr>\n",
       "      <th>...</th>\n",
       "      <td>...</td>\n",
       "      <td>...</td>\n",
       "      <td>...</td>\n",
       "      <td>...</td>\n",
       "      <td>...</td>\n",
       "      <td>...</td>\n",
       "      <td>...</td>\n",
       "    </tr>\n",
       "    <tr>\n",
       "      <th>2681</th>\n",
       "      <td>2012-01-09</td>\n",
       "      <td>112.45</td>\n",
       "      <td>113.42</td>\n",
       "      <td>113.88</td>\n",
       "      <td>111.80</td>\n",
       "      <td>203.39K</td>\n",
       "      <td>-0.54%</td>\n",
       "    </tr>\n",
       "    <tr>\n",
       "      <th>2682</th>\n",
       "      <td>2012-01-06</td>\n",
       "      <td>113.06</td>\n",
       "      <td>112.85</td>\n",
       "      <td>113.68</td>\n",
       "      <td>112.03</td>\n",
       "      <td>190.83K</td>\n",
       "      <td>0.28%</td>\n",
       "    </tr>\n",
       "    <tr>\n",
       "      <th>2683</th>\n",
       "      <td>2012-01-05</td>\n",
       "      <td>112.74</td>\n",
       "      <td>113.50</td>\n",
       "      <td>114.64</td>\n",
       "      <td>112.10</td>\n",
       "      <td>205.41K</td>\n",
       "      <td>-0.84%</td>\n",
       "    </tr>\n",
       "    <tr>\n",
       "      <th>2684</th>\n",
       "      <td>2012-01-04</td>\n",
       "      <td>113.70</td>\n",
       "      <td>112.10</td>\n",
       "      <td>113.97</td>\n",
       "      <td>111.27</td>\n",
       "      <td>221.27K</td>\n",
       "      <td>1.40%</td>\n",
       "    </tr>\n",
       "    <tr>\n",
       "      <th>2685</th>\n",
       "      <td>2012-01-03</td>\n",
       "      <td>112.13</td>\n",
       "      <td>108.35</td>\n",
       "      <td>112.44</td>\n",
       "      <td>108.35</td>\n",
       "      <td>178.62K</td>\n",
       "      <td>4.42%</td>\n",
       "    </tr>\n",
       "  </tbody>\n",
       "</table>\n",
       "<p>2686 rows × 7 columns</p>\n",
       "</div>"
      ],
      "text/plain": [
       "           Date   Price    Open    High     Low     Vol. Change %\n",
       "0    2022-05-24  110.13  110.21  110.52  109.70        -   -0.59%\n",
       "1    2022-05-23  110.78  110.29  111.59  109.30  191.99K    0.54%\n",
       "2    2022-05-22  110.18  110.19  110.30  109.38        -   -2.11%\n",
       "3    2022-05-20  112.55  111.45  113.23  110.52  180.89K    0.46%\n",
       "4    2022-05-19  112.04  108.22  112.31  105.70  272.35K    2.69%\n",
       "...         ...     ...     ...     ...     ...      ...      ...\n",
       "2681 2012-01-09  112.45  113.42  113.88  111.80  203.39K   -0.54%\n",
       "2682 2012-01-06  113.06  112.85  113.68  112.03  190.83K    0.28%\n",
       "2683 2012-01-05  112.74  113.50  114.64  112.10  205.41K   -0.84%\n",
       "2684 2012-01-04  113.70  112.10  113.97  111.27  221.27K    1.40%\n",
       "2685 2012-01-03  112.13  108.35  112.44  108.35  178.62K    4.42%\n",
       "\n",
       "[2686 rows x 7 columns]"
      ]
     },
     "execution_count": 5,
     "metadata": {},
     "output_type": "execute_result"
    }
   ],
   "source": [
    "df"
   ]
  },
  {
   "cell_type": "code",
   "execution_count": 6,
   "metadata": {},
   "outputs": [
    {
     "name": "stderr",
     "output_type": "stream",
     "text": [
      "/opt/anaconda3/lib/python3.8/site-packages/statsmodels/compat/pandas.py:61: FutureWarning: pandas.Int64Index is deprecated and will be removed from pandas in a future version. Use pandas.Index with the appropriate dtype instead.\n",
      "  from pandas import Int64Index as NumericIndex\n"
     ]
    }
   ],
   "source": [
    "from statsmodels.tsa.holtwinters import ExponentialSmoothing\n",
    "\n",
    "model = ExponentialSmoothing(\n",
    "    df[[\"Price\"]],\n",
    "    trend = 'add',           # or \"mul\" rarely used\n",
    "    seasonal = 'add',        # or \"mul\"\n",
    "    seasonal_periods = 12\n",
    ")\n",
    "\n",
    "result = model.fit()\n",
    "\n",
    "preds = model.predict(params=result.params, start=0, end=len(df) + 19)"
   ]
  },
  {
   "cell_type": "code",
   "execution_count": 7,
   "metadata": {},
   "outputs": [],
   "source": [
    "dump(result, open(\"./models/exp.joblib\",'wb'))"
   ]
  },
  {
   "cell_type": "code",
   "execution_count": 8,
   "metadata": {},
   "outputs": [
    {
     "data": {
      "text/plain": [
       "[<matplotlib.lines.Line2D at 0x7fb3b4f9ab20>]"
      ]
     },
     "execution_count": 8,
     "metadata": {},
     "output_type": "execute_result"
    },
    {
     "data": {
      "image/png": "[encoded data removed]",
      "text/plain": [
       "<Figure size 432x288 with 1 Axes>"
      ]
     },
     "metadata": {
      "needs_background": "light"
     },
     "output_type": "display_data"
    }
   ],
   "source": [
    "import matplotlib.pyplot as plt\n",
    "plt.plot(preds)\n",
    "plt.plot(df['Price'],color = 'red', alpha = 0.3)"
   ]
  },
  {
   "cell_type": "code",
   "execution_count": 9,
   "metadata": {},
   "outputs": [],
   "source": [
    "from datetime import datetime, timedelta\n",
    "import pandas as pd\n",
    "prediction_df = pd.DataFrame(\n",
    "    [df['Date'].iloc[-1] + timedelta(days = n) for n in range(1,21)],\n",
    "    columns = ['Date'])"
   ]
  },
  {
   "cell_type": "code",
   "execution_count": 10,
   "metadata": {},
   "outputs": [],
   "source": [
    "pred_df = pd.concat([df, prediction_df])\n",
    "pred_df['prediction'] = preds"
   ]
  },
  {
   "cell_type": "code",
   "execution_count": 11,
   "metadata": {},
   "outputs": [
    {
     "data": {
      "text/html": [
       "<div>\n",
       "<style scoped>\n",
       "    .dataframe tbody tr th:only-of-type {\n",
       "        vertical-align: middle;\n",
       "    }\n",
       "\n",
       "    .dataframe tbody tr th {\n",
       "        vertical-align: top;\n",
       "    }\n",
       "\n",
       "    .dataframe thead th {\n",
       "        text-align: right;\n",
       "    }\n",
       "</style>\n",
       "<table border=\"1\" class=\"dataframe\">\n",
       "  <thead>\n",
       "    <tr style=\"text-align: right;\">\n",
       "      <th></th>\n",
       "      <th>Date</th>\n",
       "      <th>Price</th>\n",
       "      <th>Open</th>\n",
       "      <th>High</th>\n",
       "      <th>Low</th>\n",
       "      <th>Vol.</th>\n",
       "      <th>Change %</th>\n",
       "      <th>prediction</th>\n",
       "    </tr>\n",
       "  </thead>\n",
       "  <tbody>\n",
       "    <tr>\n",
       "      <th>0</th>\n",
       "      <td>2022-05-24</td>\n",
       "      <td>110.13</td>\n",
       "      <td>110.21</td>\n",
       "      <td>110.52</td>\n",
       "      <td>109.70</td>\n",
       "      <td>-</td>\n",
       "      <td>-0.59%</td>\n",
       "      <td>110.153512</td>\n",
       "    </tr>\n",
       "    <tr>\n",
       "      <th>1</th>\n",
       "      <td>2022-05-23</td>\n",
       "      <td>110.78</td>\n",
       "      <td>110.29</td>\n",
       "      <td>111.59</td>\n",
       "      <td>109.30</td>\n",
       "      <td>191.99K</td>\n",
       "      <td>0.54%</td>\n",
       "      <td>109.887324</td>\n",
       "    </tr>\n",
       "    <tr>\n",
       "      <th>2</th>\n",
       "      <td>2022-05-22</td>\n",
       "      <td>110.18</td>\n",
       "      <td>110.19</td>\n",
       "      <td>110.30</td>\n",
       "      <td>109.38</td>\n",
       "      <td>-</td>\n",
       "      <td>-2.11%</td>\n",
       "      <td>110.654700</td>\n",
       "    </tr>\n",
       "    <tr>\n",
       "      <th>3</th>\n",
       "      <td>2022-05-20</td>\n",
       "      <td>112.55</td>\n",
       "      <td>111.45</td>\n",
       "      <td>113.23</td>\n",
       "      <td>110.52</td>\n",
       "      <td>180.89K</td>\n",
       "      <td>0.46%</td>\n",
       "      <td>110.082611</td>\n",
       "    </tr>\n",
       "    <tr>\n",
       "      <th>4</th>\n",
       "      <td>2022-05-19</td>\n",
       "      <td>112.04</td>\n",
       "      <td>108.22</td>\n",
       "      <td>112.31</td>\n",
       "      <td>105.70</td>\n",
       "      <td>272.35K</td>\n",
       "      <td>2.69%</td>\n",
       "      <td>112.639987</td>\n",
       "    </tr>\n",
       "    <tr>\n",
       "      <th>...</th>\n",
       "      <td>...</td>\n",
       "      <td>...</td>\n",
       "      <td>...</td>\n",
       "      <td>...</td>\n",
       "      <td>...</td>\n",
       "      <td>...</td>\n",
       "      <td>...</td>\n",
       "      <td>...</td>\n",
       "    </tr>\n",
       "    <tr>\n",
       "      <th>15</th>\n",
       "      <td>2012-01-19</td>\n",
       "      <td>NaN</td>\n",
       "      <td>NaN</td>\n",
       "      <td>NaN</td>\n",
       "      <td>NaN</td>\n",
       "      <td>NaN</td>\n",
       "      <td>NaN</td>\n",
       "      <td>111.929827</td>\n",
       "    </tr>\n",
       "    <tr>\n",
       "      <th>16</th>\n",
       "      <td>2012-01-20</td>\n",
       "      <td>NaN</td>\n",
       "      <td>NaN</td>\n",
       "      <td>NaN</td>\n",
       "      <td>NaN</td>\n",
       "      <td>NaN</td>\n",
       "      <td>NaN</td>\n",
       "      <td>111.827916</td>\n",
       "    </tr>\n",
       "    <tr>\n",
       "      <th>17</th>\n",
       "      <td>2012-01-21</td>\n",
       "      <td>NaN</td>\n",
       "      <td>NaN</td>\n",
       "      <td>NaN</td>\n",
       "      <td>NaN</td>\n",
       "      <td>NaN</td>\n",
       "      <td>NaN</td>\n",
       "      <td>111.718090</td>\n",
       "    </tr>\n",
       "    <tr>\n",
       "      <th>18</th>\n",
       "      <td>2012-01-22</td>\n",
       "      <td>NaN</td>\n",
       "      <td>NaN</td>\n",
       "      <td>NaN</td>\n",
       "      <td>NaN</td>\n",
       "      <td>NaN</td>\n",
       "      <td>NaN</td>\n",
       "      <td>111.872726</td>\n",
       "    </tr>\n",
       "    <tr>\n",
       "      <th>19</th>\n",
       "      <td>2012-01-23</td>\n",
       "      <td>NaN</td>\n",
       "      <td>NaN</td>\n",
       "      <td>NaN</td>\n",
       "      <td>NaN</td>\n",
       "      <td>NaN</td>\n",
       "      <td>NaN</td>\n",
       "      <td>111.888630</td>\n",
       "    </tr>\n",
       "  </tbody>\n",
       "</table>\n",
       "<p>2706 rows × 8 columns</p>\n",
       "</div>"
      ],
      "text/plain": [
       "         Date   Price    Open    High     Low     Vol. Change %  prediction\n",
       "0  2022-05-24  110.13  110.21  110.52  109.70        -   -0.59%  110.153512\n",
       "1  2022-05-23  110.78  110.29  111.59  109.30  191.99K    0.54%  109.887324\n",
       "2  2022-05-22  110.18  110.19  110.30  109.38        -   -2.11%  110.654700\n",
       "3  2022-05-20  112.55  111.45  113.23  110.52  180.89K    0.46%  110.082611\n",
       "4  2022-05-19  112.04  108.22  112.31  105.70  272.35K    2.69%  112.639987\n",
       "..        ...     ...     ...     ...     ...      ...      ...         ...\n",
       "15 2012-01-19     NaN     NaN     NaN     NaN      NaN      NaN  111.929827\n",
       "16 2012-01-20     NaN     NaN     NaN     NaN      NaN      NaN  111.827916\n",
       "17 2012-01-21     NaN     NaN     NaN     NaN      NaN      NaN  111.718090\n",
       "18 2012-01-22     NaN     NaN     NaN     NaN      NaN      NaN  111.872726\n",
       "19 2012-01-23     NaN     NaN     NaN     NaN      NaN      NaN  111.888630\n",
       "\n",
       "[2706 rows x 8 columns]"
      ]
     },
     "execution_count": 11,
     "metadata": {},
     "output_type": "execute_result"
    }
   ],
   "source": [
    "pred_df"
   ]
  },
  {
   "cell_type": "code",
   "execution_count": 13,
   "metadata": {},
   "outputs": [],
   "source": [
    "# ExpPredictor(20).predict(df)"
   ]
  },
  {
   "cell_type": "code",
   "execution_count": null,
   "metadata": {},
   "outputs": [],
   "source": []
  }
 ],
 "metadata": {
  "interpreter": {
   "hash": "40d3a090f54c6569ab1632332b64b2c03c39dcf918b08424e98f38b5ae0af88f"
  },
  "kernelspec": {
   "display_name": "Python 3.8.3 ('base')",
   "language": "python",
   "name": "python3"
  },
  "language_info": {
   "codemirror_mode": {
    "name": "ipython",
    "version": 3
   },
   "file_extension": ".py",
   "mimetype": "text/x-python",
   "name": "python",
   "nbconvert_exporter": "python",
   "pygments_lexer": "ipython3",
   "version": "3.8.3"
  },
  "orig_nbformat": 4
 },
 "nbformat": 4,
 "nbformat_minor": 2
}
